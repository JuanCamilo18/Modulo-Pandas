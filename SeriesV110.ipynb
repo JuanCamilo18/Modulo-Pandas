{
 "cells": [
  {
   "cell_type": "markdown",
   "metadata": {},
   "source": [
    "# Series"
   ]
  },
  {
   "cell_type": "code",
   "execution_count": 2,
   "metadata": {},
   "outputs": [],
   "source": [
    "import pandas as pd"
   ]
  },
  {
   "cell_type": "code",
   "execution_count": 3,
   "metadata": {},
   "outputs": [
    {
     "data": {
      "text/plain": [
       "0    3\n",
       "1    5\n",
       "2    7\n",
       "dtype: int64"
      ]
     },
     "execution_count": 3,
     "metadata": {},
     "output_type": "execute_result"
    }
   ],
   "source": [
    "# crear una serie\n",
    "serie1 = pd.Series([3,5,7])\n",
    "serie1\n",
    "# una serie q esta indexada"
   ]
  },
  {
   "cell_type": "code",
   "execution_count": 5,
   "metadata": {},
   "outputs": [
    {
     "data": {
      "text/plain": [
       "5"
      ]
     },
     "execution_count": 5,
     "metadata": {},
     "output_type": "execute_result"
    }
   ],
   "source": [
    "# quiero el numero 5\n",
    "serie1[1]"
   ]
  },
  {
   "cell_type": "code",
   "execution_count": 12,
   "metadata": {},
   "outputs": [],
   "source": [
    "# crear nosotros los indices\n",
    "asignaturas = ['Matematicas', 'Historia', 'Fisica', 'Literatura']\n",
    "notas = [8, 6, 9, 7]\n",
    "serie_notas_daniel = pd.Series(notas, index = asignaturas)"
   ]
  },
  {
   "cell_type": "code",
   "execution_count": 13,
   "metadata": {},
   "outputs": [
    {
     "data": {
      "text/plain": [
       "Matematicas    8\n",
       "Historia       6\n",
       "Fisica         9\n",
       "Literatura     7\n",
       "dtype: int64"
      ]
     },
     "execution_count": 13,
     "metadata": {},
     "output_type": "execute_result"
    }
   ],
   "source": [
    "serie_notas_daniel"
   ]
  },
  {
   "cell_type": "code",
   "execution_count": 14,
   "metadata": {},
   "outputs": [
    {
     "data": {
      "text/plain": [
       "9"
      ]
     },
     "execution_count": 14,
     "metadata": {},
     "output_type": "execute_result"
    }
   ],
   "source": [
    "# quiero la nota de fisica de daniel\n",
    "serie_notas_daniel['Fisica']"
   ]
  },
  {
   "cell_type": "code",
   "execution_count": 15,
   "metadata": {},
   "outputs": [
    {
     "data": {
      "text/plain": [
       "Matematicas    8\n",
       "Fisica         9\n",
       "dtype: int64"
      ]
     },
     "execution_count": 15,
     "metadata": {},
     "output_type": "execute_result"
    }
   ],
   "source": [
    "# que notas son > de 8\n",
    "serie_notas_daniel[serie_notas_daniel >= 8]"
   ]
  },
  {
   "cell_type": "code",
   "execution_count": null,
   "metadata": {},
   "outputs": [],
   "source": []
  },
  {
   "cell_type": "code",
   "execution_count": 16,
   "metadata": {},
   "outputs": [
    {
     "data": {
      "text/plain": [
       "Matematicas    8\n",
       "Historia       6\n",
       "Fisica         9\n",
       "Literatura     7\n",
       "Name: Notas de Daniel, dtype: int64"
      ]
     },
     "execution_count": 16,
     "metadata": {},
     "output_type": "execute_result"
    }
   ],
   "source": [
    "# tambien podemos poner un nombre a la serie\n",
    "\n",
    "serie_notas_daniel.name = 'Notas de Daniel'\n",
    "serie_notas_daniel"
   ]
  },
  {
   "cell_type": "code",
   "execution_count": 18,
   "metadata": {},
   "outputs": [
    {
     "data": {
      "text/plain": [
       "Asignaturas de Daniel\n",
       "Matematicas    8\n",
       "Historia       6\n",
       "Fisica         9\n",
       "Literatura     7\n",
       "Name: Notas de Daniel, dtype: int64"
      ]
     },
     "execution_count": 18,
     "metadata": {},
     "output_type": "execute_result"
    }
   ],
   "source": [
    "# a los indices tambien podemos poder un nombre\n",
    "\n",
    "serie_notas_daniel.index.name = 'Asignaturas de Daniel'\n",
    "serie_notas_daniel"
   ]
  },
  {
   "cell_type": "code",
   "execution_count": null,
   "metadata": {},
   "outputs": [],
   "source": []
  },
  {
   "cell_type": "code",
   "execution_count": 19,
   "metadata": {},
   "outputs": [
    {
     "data": {
      "text/plain": [
       "{'Matematicas': 8, 'Historia': 6, 'Fisica': 9, 'Literatura': 7}"
      ]
     },
     "execution_count": 19,
     "metadata": {},
     "output_type": "execute_result"
    }
   ],
   "source": [
    "# podemos convertir una serie en un diccionario\n",
    "# metodo: to_dict convierte una serie en un diccionario\n",
    "\n",
    "diccionario = serie_notas_daniel.to_dict()\n",
    "diccionario"
   ]
  },
  {
   "cell_type": "code",
   "execution_count": null,
   "metadata": {},
   "outputs": [],
   "source": []
  },
  {
   "cell_type": "code",
   "execution_count": 20,
   "metadata": {},
   "outputs": [
    {
     "data": {
      "text/plain": [
       "Matematicas    8\n",
       "Historia       6\n",
       "Fisica         9\n",
       "Literatura     7\n",
       "dtype: int64"
      ]
     },
     "execution_count": 20,
     "metadata": {},
     "output_type": "execute_result"
    }
   ],
   "source": [
    "# podemos convertir un diccionario a una serie\n",
    "\n",
    "serieC = pd.Series(diccionario)\n",
    "serieC"
   ]
  },
  {
   "cell_type": "code",
   "execution_count": null,
   "metadata": {},
   "outputs": [],
   "source": []
  },
  {
   "cell_type": "code",
   "execution_count": null,
   "metadata": {},
   "outputs": [],
   "source": [
    "# las series se pueden sumar, dividir"
   ]
  },
  {
   "cell_type": "code",
   "execution_count": 21,
   "metadata": {},
   "outputs": [
    {
     "data": {
      "text/plain": [
       "Asignaturas de Daniel\n",
       "Matematicas    8\n",
       "Historia       6\n",
       "Fisica         9\n",
       "Literatura     7\n",
       "Name: Notas de Daniel, dtype: int64"
      ]
     },
     "execution_count": 21,
     "metadata": {},
     "output_type": "execute_result"
    }
   ],
   "source": [
    "serie_notas_daniel"
   ]
  },
  {
   "cell_type": "code",
   "execution_count": null,
   "metadata": {},
   "outputs": [],
   "source": []
  },
  {
   "cell_type": "code",
   "execution_count": 22,
   "metadata": {},
   "outputs": [],
   "source": [
    "asignaturas = ['Matematicas', 'Historia', 'Fisica', 'Literatura']\n",
    "notas_ana = [7, 8, 5, 9]\n",
    "serie_notas_ana = pd.Series(notas_ana, index = asignaturas)"
   ]
  },
  {
   "cell_type": "code",
   "execution_count": 24,
   "metadata": {},
   "outputs": [
    {
     "data": {
      "text/plain": [
       "Matematicas    7\n",
       "Historia       8\n",
       "Fisica         5\n",
       "Literatura     9\n",
       "dtype: int64"
      ]
     },
     "execution_count": 24,
     "metadata": {},
     "output_type": "execute_result"
    }
   ],
   "source": [
    "serie_notas_ana"
   ]
  },
  {
   "cell_type": "code",
   "execution_count": 27,
   "metadata": {},
   "outputs": [
    {
     "data": {
      "text/plain": [
       "Asignaturas de Daniel\n",
       "Matematicas    7.5\n",
       "Historia       7.0\n",
       "Fisica         7.0\n",
       "Literatura     8.0\n",
       "dtype: float64"
      ]
     },
     "execution_count": 27,
     "metadata": {},
     "output_type": "execute_result"
    }
   ],
   "source": [
    "# la suma de notas de las clases\n",
    "# la nota media de clases\n",
    "\n",
    "serie_notas_clases = (serie_notas_daniel + serie_notas_ana) /2\n",
    "serie_notas_clases"
   ]
  },
  {
   "cell_type": "code",
   "execution_count": null,
   "metadata": {},
   "outputs": [],
   "source": []
  },
  {
   "cell_type": "code",
   "execution_count": null,
   "metadata": {},
   "outputs": [],
   "source": []
  }
 ],
 "metadata": {
  "kernelspec": {
   "display_name": "Python 3",
   "language": "python",
   "name": "python3"
  },
  "language_info": {
   "codemirror_mode": {
    "name": "ipython",
    "version": 3
   },
   "file_extension": ".py",
   "mimetype": "text/x-python",
   "name": "python",
   "nbconvert_exporter": "python",
   "pygments_lexer": "ipython3",
   "version": "3.7.6"
  }
 },
 "nbformat": 4,
 "nbformat_minor": 4
}
