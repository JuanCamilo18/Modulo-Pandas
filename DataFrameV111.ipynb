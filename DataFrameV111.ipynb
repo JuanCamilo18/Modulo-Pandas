{
 "cells": [
  {
   "cell_type": "markdown",
   "metadata": {},
   "source": [
    "# DataFrame"
   ]
  },
  {
   "cell_type": "code",
   "execution_count": null,
   "metadata": {},
   "outputs": [],
   "source": [
    "Vamos a crear DataFrame con el modulo pandas"
   ]
  },
  {
   "cell_type": "code",
   "execution_count": 1,
   "metadata": {},
   "outputs": [],
   "source": [
    "# importamos\n",
    "import pandas as pd"
   ]
  },
  {
   "cell_type": "code",
   "execution_count": null,
   "metadata": {},
   "outputs": [],
   "source": [
    "# vamos a recuperar datos de wikipedia"
   ]
  },
  {
   "cell_type": "code",
   "execution_count": 2,
   "metadata": {},
   "outputs": [
    {
     "data": {
      "text/plain": [
       "True"
      ]
     },
     "execution_count": 2,
     "metadata": {},
     "output_type": "execute_result"
    }
   ],
   "source": [
    "# importamos el modulo \n",
    "import webbrowser\n",
    "\n",
    "# la ruta del sitio web\n",
    "ruta = 'https://es.wikipedia.org/wiki/Anexo:Campeones_de_la_NBA'\n",
    "\n",
    "# del modulo webbrowser y el metodo open, abrimos la pagina web\n",
    "webbrowser.open(ruta)"
   ]
  },
  {
   "cell_type": "code",
   "execution_count": 9,
   "metadata": {},
   "outputs": [
    {
     "data": {
      "text/html": [
       "<div>\n",
       "<style scoped>\n",
       "    .dataframe tbody tr th:only-of-type {\n",
       "        vertical-align: middle;\n",
       "    }\n",
       "\n",
       "    .dataframe tbody tr th {\n",
       "        vertical-align: top;\n",
       "    }\n",
       "\n",
       "    .dataframe thead th {\n",
       "        text-align: right;\n",
       "    }\n",
       "</style>\n",
       "<table border=\"1\" class=\"dataframe\">\n",
       "  <thead>\n",
       "    <tr style=\"text-align: right;\">\n",
       "      <th></th>\n",
       "      <th>Año</th>\n",
       "      <th>Campeón del Oeste</th>\n",
       "      <th>Resultado</th>\n",
       "      <th>Campeón del Este</th>\n",
       "      <th>Ref.</th>\n",
       "    </tr>\n",
       "  </thead>\n",
       "  <tbody>\n",
       "    <tr>\n",
       "      <th>0</th>\n",
       "      <td>1950</td>\n",
       "      <td>Minneapolis Lakersn. 2​</td>\n",
       "      <td>4–2</td>\n",
       "      <td>Syracuse Nationals†</td>\n",
       "      <td>19​18​</td>\n",
       "    </tr>\n",
       "    <tr>\n",
       "      <th>1</th>\n",
       "      <td>1951</td>\n",
       "      <td>Rochester Royals</td>\n",
       "      <td>4–3</td>\n",
       "      <td>New York Knicks</td>\n",
       "      <td>20​</td>\n",
       "    </tr>\n",
       "    <tr>\n",
       "      <th>2</th>\n",
       "      <td>1952</td>\n",
       "      <td>Minneapolis Lakers</td>\n",
       "      <td>4–3</td>\n",
       "      <td>New York Knicks</td>\n",
       "      <td>21​</td>\n",
       "    </tr>\n",
       "    <tr>\n",
       "      <th>3</th>\n",
       "      <td>1953</td>\n",
       "      <td>Minneapolis Lakers†</td>\n",
       "      <td>4–1</td>\n",
       "      <td>New York Knicks</td>\n",
       "      <td>22​</td>\n",
       "    </tr>\n",
       "    <tr>\n",
       "      <th>4</th>\n",
       "      <td>1954</td>\n",
       "      <td>Minneapolis Lakers†</td>\n",
       "      <td>4–3</td>\n",
       "      <td>Syracuse Nationals</td>\n",
       "      <td>23​</td>\n",
       "    </tr>\n",
       "    <tr>\n",
       "      <th>5</th>\n",
       "      <td>1955</td>\n",
       "      <td>Ft. Wayne Pistons</td>\n",
       "      <td>3–4</td>\n",
       "      <td>Syracuse Nationals†</td>\n",
       "      <td>24​</td>\n",
       "    </tr>\n",
       "    <tr>\n",
       "      <th>6</th>\n",
       "      <td>1956</td>\n",
       "      <td>Ft. Wayne Pistons</td>\n",
       "      <td>1–4</td>\n",
       "      <td>Philadelphia Warriors†</td>\n",
       "      <td>25​</td>\n",
       "    </tr>\n",
       "    <tr>\n",
       "      <th>7</th>\n",
       "      <td>1957</td>\n",
       "      <td>St. Louis Hawks</td>\n",
       "      <td>3–4</td>\n",
       "      <td>Boston Celtics†</td>\n",
       "      <td>26​</td>\n",
       "    </tr>\n",
       "    <tr>\n",
       "      <th>8</th>\n",
       "      <td>1958</td>\n",
       "      <td>St. Louis Hawks</td>\n",
       "      <td>4–2</td>\n",
       "      <td>Boston Celtics†</td>\n",
       "      <td>27​</td>\n",
       "    </tr>\n",
       "    <tr>\n",
       "      <th>9</th>\n",
       "      <td>1959</td>\n",
       "      <td>Minneapolis Lakers</td>\n",
       "      <td>0–4</td>\n",
       "      <td>Boston Celtics†</td>\n",
       "      <td>28​</td>\n",
       "    </tr>\n",
       "    <tr>\n",
       "      <th>10</th>\n",
       "      <td>1960</td>\n",
       "      <td>St. Louis Hawks</td>\n",
       "      <td>3–4</td>\n",
       "      <td>Boston Celtics†</td>\n",
       "      <td>29​</td>\n",
       "    </tr>\n",
       "  </tbody>\n",
       "</table>\n",
       "</div>"
      ],
      "text/plain": [
       "     Año        Campeón del Oeste Resultado        Campeón del Este    Ref.\n",
       "0   1950  Minneapolis Lakersn. 2​       4–2     Syracuse Nationals†  19​18​\n",
       "1   1951         Rochester Royals       4–3         New York Knicks     20​\n",
       "2   1952       Minneapolis Lakers       4–3         New York Knicks     21​\n",
       "3   1953      Minneapolis Lakers†       4–1         New York Knicks     22​\n",
       "4   1954      Minneapolis Lakers†       4–3      Syracuse Nationals     23​\n",
       "5   1955        Ft. Wayne Pistons       3–4     Syracuse Nationals†     24​\n",
       "6   1956        Ft. Wayne Pistons       1–4  Philadelphia Warriors†     25​\n",
       "7   1957          St. Louis Hawks       3–4         Boston Celtics†     26​\n",
       "8   1958          St. Louis Hawks       4–2         Boston Celtics†     27​\n",
       "9   1959       Minneapolis Lakers       0–4         Boston Celtics†     28​\n",
       "10  1960          St. Louis Hawks       3–4         Boston Celtics†     29​"
      ]
     },
     "execution_count": 9,
     "metadata": {},
     "output_type": "execute_result"
    }
   ],
   "source": [
    "# copiamos \"ctrl + c\" de la pagina web\n",
    "#con el metodo clipboard\n",
    "\n",
    "data_frame_nba = pd.read_clipboard()\n",
    "data_frame_nba"
   ]
  },
  {
   "cell_type": "code",
   "execution_count": null,
   "metadata": {},
   "outputs": [],
   "source": [
    "# tenemos que selecionar bien"
   ]
  },
  {
   "cell_type": "code",
   "execution_count": 10,
   "metadata": {},
   "outputs": [
    {
     "data": {
      "text/plain": [
       "Index(['Año', 'Campeón del Oeste', 'Resultado', 'Campeón del Este', 'Ref.'], dtype='object')"
      ]
     },
     "execution_count": 10,
     "metadata": {},
     "output_type": "execute_result"
    }
   ],
   "source": [
    "# Ahora vemos las columnas que tiene\n",
    "data_frame_nba.columns"
   ]
  },
  {
   "cell_type": "code",
   "execution_count": 11,
   "metadata": {},
   "outputs": [
    {
     "data": {
      "text/plain": [
       "0     Minneapolis Lakersn. 2​\n",
       "1            Rochester Royals\n",
       "2          Minneapolis Lakers\n",
       "3         Minneapolis Lakers†\n",
       "4         Minneapolis Lakers†\n",
       "5           Ft. Wayne Pistons\n",
       "6           Ft. Wayne Pistons\n",
       "7             St. Louis Hawks\n",
       "8             St. Louis Hawks\n",
       "9          Minneapolis Lakers\n",
       "10            St. Louis Hawks\n",
       "Name: Campeón del Oeste, dtype: object"
      ]
     },
     "execution_count": 11,
     "metadata": {},
     "output_type": "execute_result"
    }
   ],
   "source": [
    "# Seleccionamos los datos de la columna Campeón del oeste\n",
    "data_frame_nba['Campeón del Oeste']"
   ]
  },
  {
   "cell_type": "code",
   "execution_count": 16,
   "metadata": {},
   "outputs": [
    {
     "data": {
      "text/plain": [
       "Año                                 1955\n",
       "Campeón del Oeste      Ft. Wayne Pistons\n",
       "Resultado                            3–4\n",
       "Campeón del Este     Syracuse Nationals†\n",
       "Ref.                                 24​\n",
       "Name: 5, dtype: object"
      ]
     },
     "execution_count": 16,
     "metadata": {},
     "output_type": "execute_result"
    }
   ],
   "source": [
    "# Seleccionamos por indice (fila)\n",
    "data_frame_nba.loc[5]"
   ]
  },
  {
   "cell_type": "code",
   "execution_count": 18,
   "metadata": {},
   "outputs": [
    {
     "data": {
      "text/html": [
       "<div>\n",
       "<style scoped>\n",
       "    .dataframe tbody tr th:only-of-type {\n",
       "        vertical-align: middle;\n",
       "    }\n",
       "\n",
       "    .dataframe tbody tr th {\n",
       "        vertical-align: top;\n",
       "    }\n",
       "\n",
       "    .dataframe thead th {\n",
       "        text-align: right;\n",
       "    }\n",
       "</style>\n",
       "<table border=\"1\" class=\"dataframe\">\n",
       "  <thead>\n",
       "    <tr style=\"text-align: right;\">\n",
       "      <th></th>\n",
       "      <th>Año</th>\n",
       "      <th>Campeón del Oeste</th>\n",
       "      <th>Resultado</th>\n",
       "      <th>Campeón del Este</th>\n",
       "      <th>Ref.</th>\n",
       "    </tr>\n",
       "  </thead>\n",
       "  <tbody>\n",
       "    <tr>\n",
       "      <th>0</th>\n",
       "      <td>1950</td>\n",
       "      <td>Minneapolis Lakersn. 2​</td>\n",
       "      <td>4–2</td>\n",
       "      <td>Syracuse Nationals†</td>\n",
       "      <td>19​18​</td>\n",
       "    </tr>\n",
       "    <tr>\n",
       "      <th>1</th>\n",
       "      <td>1951</td>\n",
       "      <td>Rochester Royals</td>\n",
       "      <td>4–3</td>\n",
       "      <td>New York Knicks</td>\n",
       "      <td>20​</td>\n",
       "    </tr>\n",
       "    <tr>\n",
       "      <th>2</th>\n",
       "      <td>1952</td>\n",
       "      <td>Minneapolis Lakers</td>\n",
       "      <td>4–3</td>\n",
       "      <td>New York Knicks</td>\n",
       "      <td>21​</td>\n",
       "    </tr>\n",
       "    <tr>\n",
       "      <th>3</th>\n",
       "      <td>1953</td>\n",
       "      <td>Minneapolis Lakers†</td>\n",
       "      <td>4–1</td>\n",
       "      <td>New York Knicks</td>\n",
       "      <td>22​</td>\n",
       "    </tr>\n",
       "    <tr>\n",
       "      <th>4</th>\n",
       "      <td>1954</td>\n",
       "      <td>Minneapolis Lakers†</td>\n",
       "      <td>4–3</td>\n",
       "      <td>Syracuse Nationals</td>\n",
       "      <td>23​</td>\n",
       "    </tr>\n",
       "  </tbody>\n",
       "</table>\n",
       "</div>"
      ],
      "text/plain": [
       "    Año        Campeón del Oeste Resultado     Campeón del Este    Ref.\n",
       "0  1950  Minneapolis Lakersn. 2​       4–2  Syracuse Nationals†  19​18​\n",
       "1  1951         Rochester Royals       4–3      New York Knicks     20​\n",
       "2  1952       Minneapolis Lakers       4–3      New York Knicks     21​\n",
       "3  1953      Minneapolis Lakers†       4–1      New York Knicks     22​\n",
       "4  1954      Minneapolis Lakers†       4–3   Syracuse Nationals     23​"
      ]
     },
     "execution_count": 18,
     "metadata": {},
     "output_type": "execute_result"
    }
   ],
   "source": [
    "# ver los primeros elementos, por defecto selecciona 5\n",
    "data_frame_nba.head()"
   ]
  },
  {
   "cell_type": "code",
   "execution_count": 19,
   "metadata": {},
   "outputs": [
    {
     "data": {
      "text/html": [
       "<div>\n",
       "<style scoped>\n",
       "    .dataframe tbody tr th:only-of-type {\n",
       "        vertical-align: middle;\n",
       "    }\n",
       "\n",
       "    .dataframe tbody tr th {\n",
       "        vertical-align: top;\n",
       "    }\n",
       "\n",
       "    .dataframe thead th {\n",
       "        text-align: right;\n",
       "    }\n",
       "</style>\n",
       "<table border=\"1\" class=\"dataframe\">\n",
       "  <thead>\n",
       "    <tr style=\"text-align: right;\">\n",
       "      <th></th>\n",
       "      <th>Año</th>\n",
       "      <th>Campeón del Oeste</th>\n",
       "      <th>Resultado</th>\n",
       "      <th>Campeón del Este</th>\n",
       "      <th>Ref.</th>\n",
       "    </tr>\n",
       "  </thead>\n",
       "  <tbody>\n",
       "    <tr>\n",
       "      <th>0</th>\n",
       "      <td>1950</td>\n",
       "      <td>Minneapolis Lakersn. 2​</td>\n",
       "      <td>4–2</td>\n",
       "      <td>Syracuse Nationals†</td>\n",
       "      <td>19​18​</td>\n",
       "    </tr>\n",
       "    <tr>\n",
       "      <th>1</th>\n",
       "      <td>1951</td>\n",
       "      <td>Rochester Royals</td>\n",
       "      <td>4–3</td>\n",
       "      <td>New York Knicks</td>\n",
       "      <td>20​</td>\n",
       "    </tr>\n",
       "    <tr>\n",
       "      <th>2</th>\n",
       "      <td>1952</td>\n",
       "      <td>Minneapolis Lakers</td>\n",
       "      <td>4–3</td>\n",
       "      <td>New York Knicks</td>\n",
       "      <td>21​</td>\n",
       "    </tr>\n",
       "  </tbody>\n",
       "</table>\n",
       "</div>"
      ],
      "text/plain": [
       "    Año        Campeón del Oeste Resultado     Campeón del Este    Ref.\n",
       "0  1950  Minneapolis Lakersn. 2​       4–2  Syracuse Nationals†  19​18​\n",
       "1  1951         Rochester Royals       4–3      New York Knicks     20​\n",
       "2  1952       Minneapolis Lakers       4–3      New York Knicks     21​"
      ]
     },
     "execution_count": 19,
     "metadata": {},
     "output_type": "execute_result"
    }
   ],
   "source": [
    "# ver los 3 primeros elementos, agregamos 3 dentro de los parentesis\n",
    "data_frame_nba.head(3)"
   ]
  },
  {
   "cell_type": "code",
   "execution_count": 20,
   "metadata": {},
   "outputs": [
    {
     "data": {
      "text/html": [
       "<div>\n",
       "<style scoped>\n",
       "    .dataframe tbody tr th:only-of-type {\n",
       "        vertical-align: middle;\n",
       "    }\n",
       "\n",
       "    .dataframe tbody tr th {\n",
       "        vertical-align: top;\n",
       "    }\n",
       "\n",
       "    .dataframe thead th {\n",
       "        text-align: right;\n",
       "    }\n",
       "</style>\n",
       "<table border=\"1\" class=\"dataframe\">\n",
       "  <thead>\n",
       "    <tr style=\"text-align: right;\">\n",
       "      <th></th>\n",
       "      <th>Año</th>\n",
       "      <th>Campeón del Oeste</th>\n",
       "      <th>Resultado</th>\n",
       "      <th>Campeón del Este</th>\n",
       "      <th>Ref.</th>\n",
       "    </tr>\n",
       "  </thead>\n",
       "  <tbody>\n",
       "    <tr>\n",
       "      <th>6</th>\n",
       "      <td>1956</td>\n",
       "      <td>Ft. Wayne Pistons</td>\n",
       "      <td>1–4</td>\n",
       "      <td>Philadelphia Warriors†</td>\n",
       "      <td>25​</td>\n",
       "    </tr>\n",
       "    <tr>\n",
       "      <th>7</th>\n",
       "      <td>1957</td>\n",
       "      <td>St. Louis Hawks</td>\n",
       "      <td>3–4</td>\n",
       "      <td>Boston Celtics†</td>\n",
       "      <td>26​</td>\n",
       "    </tr>\n",
       "    <tr>\n",
       "      <th>8</th>\n",
       "      <td>1958</td>\n",
       "      <td>St. Louis Hawks</td>\n",
       "      <td>4–2</td>\n",
       "      <td>Boston Celtics†</td>\n",
       "      <td>27​</td>\n",
       "    </tr>\n",
       "    <tr>\n",
       "      <th>9</th>\n",
       "      <td>1959</td>\n",
       "      <td>Minneapolis Lakers</td>\n",
       "      <td>0–4</td>\n",
       "      <td>Boston Celtics†</td>\n",
       "      <td>28​</td>\n",
       "    </tr>\n",
       "    <tr>\n",
       "      <th>10</th>\n",
       "      <td>1960</td>\n",
       "      <td>St. Louis Hawks</td>\n",
       "      <td>3–4</td>\n",
       "      <td>Boston Celtics†</td>\n",
       "      <td>29​</td>\n",
       "    </tr>\n",
       "  </tbody>\n",
       "</table>\n",
       "</div>"
      ],
      "text/plain": [
       "     Año   Campeón del Oeste Resultado        Campeón del Este Ref.\n",
       "6   1956   Ft. Wayne Pistons       1–4  Philadelphia Warriors†  25​\n",
       "7   1957     St. Louis Hawks       3–4         Boston Celtics†  26​\n",
       "8   1958     St. Louis Hawks       4–2         Boston Celtics†  27​\n",
       "9   1959  Minneapolis Lakers       0–4         Boston Celtics†  28​\n",
       "10  1960     St. Louis Hawks       3–4         Boston Celtics†  29​"
      ]
     },
     "execution_count": 20,
     "metadata": {},
     "output_type": "execute_result"
    }
   ],
   "source": [
    "# ver los ultimos, por defecto 5\n",
    "data_frame_nba.tail()"
   ]
  },
  {
   "cell_type": "code",
   "execution_count": 21,
   "metadata": {},
   "outputs": [
    {
     "data": {
      "text/html": [
       "<div>\n",
       "<style scoped>\n",
       "    .dataframe tbody tr th:only-of-type {\n",
       "        vertical-align: middle;\n",
       "    }\n",
       "\n",
       "    .dataframe tbody tr th {\n",
       "        vertical-align: top;\n",
       "    }\n",
       "\n",
       "    .dataframe thead th {\n",
       "        text-align: right;\n",
       "    }\n",
       "</style>\n",
       "<table border=\"1\" class=\"dataframe\">\n",
       "  <thead>\n",
       "    <tr style=\"text-align: right;\">\n",
       "      <th></th>\n",
       "      <th>Año</th>\n",
       "      <th>Campeón del Oeste</th>\n",
       "      <th>Resultado</th>\n",
       "      <th>Campeón del Este</th>\n",
       "      <th>Ref.</th>\n",
       "    </tr>\n",
       "  </thead>\n",
       "  <tbody>\n",
       "    <tr>\n",
       "      <th>9</th>\n",
       "      <td>1959</td>\n",
       "      <td>Minneapolis Lakers</td>\n",
       "      <td>0–4</td>\n",
       "      <td>Boston Celtics†</td>\n",
       "      <td>28​</td>\n",
       "    </tr>\n",
       "    <tr>\n",
       "      <th>10</th>\n",
       "      <td>1960</td>\n",
       "      <td>St. Louis Hawks</td>\n",
       "      <td>3–4</td>\n",
       "      <td>Boston Celtics†</td>\n",
       "      <td>29​</td>\n",
       "    </tr>\n",
       "  </tbody>\n",
       "</table>\n",
       "</div>"
      ],
      "text/plain": [
       "     Año   Campeón del Oeste Resultado Campeón del Este Ref.\n",
       "9   1959  Minneapolis Lakers       0–4  Boston Celtics†  28​\n",
       "10  1960     St. Louis Hawks       3–4  Boston Celtics†  29​"
      ]
     },
     "execution_count": 21,
     "metadata": {},
     "output_type": "execute_result"
    }
   ],
   "source": [
    "# ver los ultimos\n",
    "data_frame_nba.tail(2)"
   ]
  },
  {
   "cell_type": "code",
   "execution_count": null,
   "metadata": {},
   "outputs": [],
   "source": []
  },
  {
   "cell_type": "code",
   "execution_count": 1,
   "metadata": {},
   "outputs": [],
   "source": [
    "### hacer dataframe con datos de un diccionario"
   ]
  },
  {
   "cell_type": "code",
   "execution_count": 24,
   "metadata": {},
   "outputs": [
    {
     "data": {
      "text/plain": [
       "{'asignaturas': ['matematicas', 'historia', 'fisica'], 'notas': [8, 7, 9]}"
      ]
     },
     "execution_count": 24,
     "metadata": {},
     "output_type": "execute_result"
    }
   ],
   "source": [
    "# hacemos un dicionario por listas\n",
    "lista_asignaturas = ['matematicas', 'historia', 'fisica']\n",
    "notas = [8,7,9]\n",
    "diccionario = {'asignaturas':lista_asignaturas, 'notas':notas}\n",
    "diccionario"
   ]
  },
  {
   "cell_type": "code",
   "execution_count": 28,
   "metadata": {},
   "outputs": [
    {
     "data": {
      "text/html": [
       "<div>\n",
       "<style scoped>\n",
       "    .dataframe tbody tr th:only-of-type {\n",
       "        vertical-align: middle;\n",
       "    }\n",
       "\n",
       "    .dataframe tbody tr th {\n",
       "        vertical-align: top;\n",
       "    }\n",
       "\n",
       "    .dataframe thead th {\n",
       "        text-align: right;\n",
       "    }\n",
       "</style>\n",
       "<table border=\"1\" class=\"dataframe\">\n",
       "  <thead>\n",
       "    <tr style=\"text-align: right;\">\n",
       "      <th></th>\n",
       "      <th>asignaturas</th>\n",
       "      <th>notas</th>\n",
       "    </tr>\n",
       "  </thead>\n",
       "  <tbody>\n",
       "    <tr>\n",
       "      <th>0</th>\n",
       "      <td>matematicas</td>\n",
       "      <td>8</td>\n",
       "    </tr>\n",
       "    <tr>\n",
       "      <th>1</th>\n",
       "      <td>historia</td>\n",
       "      <td>7</td>\n",
       "    </tr>\n",
       "    <tr>\n",
       "      <th>2</th>\n",
       "      <td>fisica</td>\n",
       "      <td>9</td>\n",
       "    </tr>\n",
       "  </tbody>\n",
       "</table>\n",
       "</div>"
      ],
      "text/plain": [
       "   asignaturas  notas\n",
       "0  matematicas      8\n",
       "1     historia      7\n",
       "2       fisica      9"
      ]
     },
     "execution_count": 28,
     "metadata": {},
     "output_type": "execute_result"
    }
   ],
   "source": [
    "#creamos el dataframe a partir de un diccionario\n",
    "df_notas = pd.DataFrame(diccionario)\n",
    "df_notas"
   ]
  },
  {
   "cell_type": "code",
   "execution_count": null,
   "metadata": {},
   "outputs": [],
   "source": []
  },
  {
   "cell_type": "code",
   "execution_count": null,
   "metadata": {},
   "outputs": [],
   "source": []
  }
 ],
 "metadata": {
  "kernelspec": {
   "display_name": "Python 3",
   "language": "python",
   "name": "python3"
  },
  "language_info": {
   "codemirror_mode": {
    "name": "ipython",
    "version": 3
   },
   "file_extension": ".py",
   "mimetype": "text/x-python",
   "name": "python",
   "nbconvert_exporter": "python",
   "pygments_lexer": "ipython3",
   "version": "3.7.6"
  }
 },
 "nbformat": 4,
 "nbformat_minor": 4
}
